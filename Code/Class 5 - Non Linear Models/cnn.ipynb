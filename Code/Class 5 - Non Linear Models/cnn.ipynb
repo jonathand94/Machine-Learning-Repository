{
 "cells": [
  {
   "cell_type": "markdown",
   "metadata": {},
   "source": [
    "# <center>PROGRAMANDO LA PRIMERA RED NEURONAL</center>"
   ]
  },
  {
   "cell_type": "markdown",
   "metadata": {},
   "source": [
    "## Importar librerías \n",
    "Primero que nada, debemos de importar las librerías que vamos a estar utilizando. Entre éstas se encuentran Keras (librería que permite hacer redes neuronales), Numpy (librería para manipular matrices y arreglos de manera eficiente), así como PyPlot (para graficar datos). "
   ]
  },
  {
   "cell_type": "code",
   "execution_count": 24,
   "metadata": {},
   "outputs": [],
   "source": [
    "import numpy as np # Librería para manipular matrices eficientemente\n",
    "import matplotlib.pyplot as plt # Librería para graficar\n",
    "from keras.datasets import mnist # Se carga la base de datos con dígitos más popular del mundo: MNIST\n",
    "from keras.models import Sequential # Vamos a estar utilizando un modelo secuencial\n",
    "from keras.layers import Dense, Dropout, Conv2D, MaxPool2D, Flatten # Importamos tdas las capas que usaremos de la red\n",
    "from keras.utils import np_utils # Utilidades para manejar datos de tensores con numpy\n",
    "from keras.optimizers import Adam\n",
    "import random\n",
    "import pandas as pd\n",
    "import warnings\n",
    "warnings.filterwarnings('ignore')"
   ]
  },
  {
   "cell_type": "markdown",
   "metadata": {},
   "source": [
    "## Definiendo los parámetros iniciales"
   ]
  },
  {
   "cell_type": "markdown",
   "metadata": {},
   "source": [
    "Se define primero el tamaño de la imagen:"
   ]
  },
  {
   "cell_type": "code",
   "execution_count": 6,
   "metadata": {},
   "outputs": [],
   "source": [
    "img_width, img_height = 28, 28 # Cada imagen en la base de datos es de 28 x 28 píxeles"
   ]
  },
  {
   "cell_type": "markdown",
   "metadata": {},
   "source": [
    "Ahora se establece el número de clases que existe en la base de datos. Para este caso, se sabe que existen 10 números o dígitos: 0 - 9."
   ]
  },
  {
   "cell_type": "code",
   "execution_count": 7,
   "metadata": {},
   "outputs": [],
   "source": [
    "num_classes = 10"
   ]
  },
  {
   "cell_type": "markdown",
   "metadata": {},
   "source": [
    "Para que la fase de entrenamiento sea mucho más rápida, se define cada iteración en diferentes lotes de datos. Es decir, para el caso de esta base de datos se tiene un total de 60,000 imágenes, las cuales se dividirán en lotes ó *\"batches\"* de 128 imágenes cada uno. Por razones teóricas, fundamentadas en el procesamiento digital, siempre se usan lotes que sean potencias de \"2\". Una iteración de entrenamiento ó *epoch* significa que ya se ingresaron las 60,000 imágenes en la red neuronal para ajustar los parámetros de la misma."
   ]
  },
  {
   "cell_type": "code",
   "execution_count": 8,
   "metadata": {},
   "outputs": [],
   "source": [
    "batch_size = 128"
   ]
  },
  {
   "cell_type": "markdown",
   "metadata": {},
   "source": [
    "Ahora es tiempo de definir el número de iteraciones de entrenamiento."
   ]
  },
  {
   "cell_type": "code",
   "execution_count": 9,
   "metadata": {},
   "outputs": [],
   "source": [
    "num_epochs = 10"
   ]
  },
  {
   "cell_type": "markdown",
   "metadata": {},
   "source": [
    "## Preprocesamiento de los datos"
   ]
  },
  {
   "cell_type": "markdown",
   "metadata": {},
   "source": [
    "Un paso fundamental en todo proyecto de Machine Learning es verificar las dimensiones de los datos de entrenamiento. La razón radica en el hecho de que se necesitan definir el número de neuronas en cada capa de la red neuronal; para esto, se necesitan saber las dimensiones de las matrices."
   ]
  },
  {
   "cell_type": "code",
   "execution_count": 37,
   "metadata": {},
   "outputs": [],
   "source": [
    "(X_train, Y_train), (X_test, Y_test) = mnist.load_data() #Se obtienen los datos de entrenamiento y validación\n",
    "X_train_reshaped = np.expand_dims(X_train, axis=3)\n",
    "X_test_reshaped = np.expand_dims(X_test, axis=3)"
   ]
  },
  {
   "cell_type": "code",
   "execution_count": 38,
   "metadata": {},
   "outputs": [
    {
     "name": "stdout",
     "output_type": "stream",
     "text": [
      "Dimensiones de los datos de entrenamiento X_train:  (60000, 28, 28, 1)\n",
      "Dimensiones de los datos de validación X_test:  (10000, 28, 28, 1)\n",
      "Dimensiones de las etiquetas de entrenamiento Y_train:  (60000,)\n",
      "Dimensiones de las etiquetas de entrenamiento Y_test:  (10000,)\n"
     ]
    }
   ],
   "source": [
    "print('Dimensiones de los datos de entrenamiento X_train: ', X_train_reshaped.shape)\n",
    "print('Dimensiones de los datos de validación X_test: ', X_test_reshaped.shape)\n",
    "print('Dimensiones de las etiquetas de entrenamiento Y_train: ', Y_train.shape)\n",
    "print('Dimensiones de las etiquetas de entrenamiento Y_test: ', Y_test.shape) "
   ]
  },
  {
   "cell_type": "markdown",
   "metadata": {},
   "source": [
    "Ahora es necesario estructurar los datos de etiquetas para que la red neuronal los acepte. El formato que se define se llama *one-hot vector* lo que significa que se definirá un vector con un número de dimensiones equivalente al número de clases que tengamos en la base de datos. Para este ejemplo, serían los 10 dígitos. En consecuencia, el vector contendrá un \"1\" en la posición de la clase a la que esté representando y \"0\" en todas las demás dimensiones.\n",
    "\n",
    "Ejemplo: las dimensiones del siguiente vector representan a cada dígito. Este vector representa a la etiqueta de una imágen que fue etiquetada como el número *\"3\"*.       \n",
    "       \n",
    "<center>V =( 0   0   0   1   0   0   0   0   0   0) </center>   "
   ]
  },
  {
   "cell_type": "code",
   "execution_count": 39,
   "metadata": {},
   "outputs": [
    {
     "name": "stdout",
     "output_type": "stream",
     "text": [
      "Representación de la 1° etiqueta de entrenamiento en formato one-hot:  [0. 0. 0. 0. 0. 1. 0. 0. 0. 0.]\n"
     ]
    }
   ],
   "source": [
    "Y_train_one_hot = np_utils.to_categorical(Y_train, num_classes) # Se transforma el vector en codificación \"one-hot\"\n",
    "Y_test_one_hot = np_utils.to_categorical(Y_test, num_classes) # Se transforma el vector en codificación \"one-hot\"\n",
    "print('Representación de la 1° etiqueta de entrenamiento en formato one-hot: ', Y_train_one_hot[0, :]) "
   ]
  },
  {
   "cell_type": "markdown",
   "metadata": {},
   "source": [
    "Ahora se requiere realizar una normalización de los pixeles. Para esto, se dividen todos los pixeles entre 255. Esto permite tener una escala pixélica entre 0 y 1; evitando así, que la red neuronal ponderé de manera equitativa a todos los píxeles."
   ]
  },
  {
   "cell_type": "code",
   "execution_count": 40,
   "metadata": {},
   "outputs": [],
   "source": [
    "X_train_norm = X_train_reshaped.astype('float32') / 255\n",
    "X_test_norm = X_test_reshaped.astype('float32') / 255"
   ]
  },
  {
   "cell_type": "markdown",
   "metadata": {},
   "source": [
    "Mostramos algunos ejemplos de las imágenes normalizadas"
   ]
  },
  {
   "cell_type": "code",
   "execution_count": 41,
   "metadata": {},
   "outputs": [
    {
     "data": {
      "image/png": "[encoded data removed]",
      "text/plain": [
       "<Figure size 432x288 with 9 Axes>"
      ]
     },
     "metadata": {
      "needs_background": "light"
     },
     "output_type": "display_data"
    }
   ],
   "source": [
    "for i in range(9): # Iteramos en 9 imágenes\n",
    "    plt.subplot(3, 3, i+1) # Creamos una matriz de 3 x 3 imágenes\n",
    "    plt.imshow(X_train[i, :, :], cmap = 'gray') # Mostramos las primeras 9 imágenes\n",
    "    plt.axis('off')"
   ]
  },
  {
   "cell_type": "markdown",
   "metadata": {},
   "source": [
    "## Crear el modelo de la Red Neuronal "
   ]
  },
  {
   "cell_type": "markdown",
   "metadata": {},
   "source": [
    "Se definen los parámetros de la arquitectura, tales como el número de neuronas y la probabilidad de desactivación para el regularizador."
   ]
  },
  {
   "cell_type": "code",
   "execution_count": 42,
   "metadata": {},
   "outputs": [],
   "source": [
    "num_neurons_input = 500 # Número de neuronas en la capa de entrada\n",
    "num_neurons_hidden_1 = 250 # Número de neuronas en la 1° capa oculta\n",
    "num_neurons_hidden_2 = 125 # Número de neuronas en la 2° capa oculta\n",
    "prob_drop_out = 0.25 # Probabilidad de desactivar neuronas\n",
    "lr = 0.0001"
   ]
  },
  {
   "cell_type": "markdown",
   "metadata": {},
   "source": [
    "Se creará una red neuronal con tres capas: la de entradas, la oculta y la de salida. Se usará la función ReLU como función de activación para todas las capas excepto la de salida. Para la capa de salida, se usará una función llamada *softmax*, la cuál es una extensión o generalización de la función sigmoide; usada para estimar múltiples clases."
   ]
  },
  {
   "cell_type": "code",
   "execution_count": 43,
   "metadata": {},
   "outputs": [],
   "source": [
    "# Se crea el modelo como un modelo secuencial\n",
    "model = Sequential()\n",
    "\n",
    "model.add(Conv2D(200,\n",
    "                 kernel_size=(3,3),\n",
    "                 activation='relu',\n",
    "                 padding = 'same',\n",
    "                 input_shape=(img_width,img_height,1)))\n",
    "model.add(Conv2D(180,\n",
    "                 kernel_size=(3,3),\n",
    "                 activation='relu',\n",
    "                 padding = 'same'))\n",
    "model.add(MaxPool2D(5,5))\n",
    "\n",
    "model.add(Conv2D(180,\n",
    "                 kernel_size=(3,3),\n",
    "                 activation='relu',\n",
    "                 padding = 'same'))\n",
    "model.add(Conv2D(140,\n",
    "                 kernel_size=(3,3),\n",
    "                 activation='relu',\n",
    "                 padding = 'same'))\n",
    "model.add(Conv2D(100,\n",
    "                 kernel_size=(3,3),\n",
    "                 activation='relu',\n",
    "                 padding='same'))\n",
    "model.add(Conv2D(50,\n",
    "                 kernel_size=(3,3),\n",
    "                 activation='relu',\n",
    "                 padding='valid'))\n",
    "#model.add(MaxPool2D(5,5))\n",
    "\n",
    "model.add(Flatten())\n",
    "model.add(Dense(180,activation='relu'))\n",
    "model.add(Dense(100,activation='relu'))\n",
    "model.add(Dense(50,activation='relu'))\n",
    "model.add(Dropout(rate=0.5))\n",
    "\n",
    "model.add(Dense(10,activation='softmax'))\n",
    "\n",
    "model.compile(optimizer=Adam(lr=lr),loss='sparse_categorical_crossentropy',metrics=['accuracy'])"
   ]
  },
  {
   "cell_type": "markdown",
   "metadata": {},
   "source": [
    "Se compila el modelo. Se usa un descenso por gradiente esocástico para optimizar la función de costo de pérdida logarítmica.Y se define precisión como métrica de evaluación"
   ]
  },
  {
   "cell_type": "code",
   "execution_count": 44,
   "metadata": {},
   "outputs": [],
   "source": [
    "model.compile(loss='categorical_crossentropy', optimizer= 'sgd', metrics = ['accuracy'])"
   ]
  },
  {
   "cell_type": "markdown",
   "metadata": {},
   "source": [
    "## Entrenamiento de la Red Neuronal "
   ]
  },
  {
   "cell_type": "markdown",
   "metadata": {},
   "source": [
    "Se define el entrenamiento de la red neuronal con todos los parámetros que hemos definido hasta ahora."
   ]
  },
  {
   "cell_type": "code",
   "execution_count": 45,
   "metadata": {},
   "outputs": [
    {
     "name": "stdout",
     "output_type": "stream",
     "text": [
      "WARNING:tensorflow:From C:\\Users\\jonat\\Anaconda3\\envs\\tensorflow-gpu\\lib\\site-packages\\tensorflow\\python\\ops\\math_ops.py:3066: to_int32 (from tensorflow.python.ops.math_ops) is deprecated and will be removed in a future version.\n",
      "Instructions for updating:\n",
      "Use tf.cast instead.\n",
      "Train on 60000 samples, validate on 10000 samples\n",
      "Epoch 1/10\n",
      "60000/60000 [==============================] - 35s 582us/step - loss: 2.2447 - acc: 0.2237 - val_loss: 1.9629 - val_acc: 0.4027\n",
      "Epoch 2/10\n",
      "60000/60000 [==============================] - 30s 499us/step - loss: 1.2354 - acc: 0.5827 - val_loss: 0.6049 - val_acc: 0.7975\n",
      "Epoch 3/10\n",
      "60000/60000 [==============================] - 30s 503us/step - loss: 0.6219 - acc: 0.8030 - val_loss: 0.3113 - val_acc: 0.9020\n",
      "Epoch 4/10\n",
      "60000/60000 [==============================] - 30s 503us/step - loss: 0.4004 - acc: 0.8807 - val_loss: 0.1712 - val_acc: 0.9503\n",
      "Epoch 5/10\n",
      "60000/60000 [==============================] - 30s 498us/step - loss: 0.2867 - acc: 0.9196 - val_loss: 0.1408 - val_acc: 0.9554\n",
      "Epoch 6/10\n",
      "60000/60000 [==============================] - 30s 499us/step - loss: 0.2199 - acc: 0.9377 - val_loss: 0.1032 - val_acc: 0.9698\n",
      "Epoch 7/10\n",
      "60000/60000 [==============================] - 30s 506us/step - loss: 0.1802 - acc: 0.9498 - val_loss: 0.0832 - val_acc: 0.9746\n",
      "Epoch 8/10\n",
      "60000/60000 [==============================] - 30s 507us/step - loss: 0.1580 - acc: 0.9567 - val_loss: 0.0728 - val_acc: 0.9766\n",
      "Epoch 9/10\n",
      "60000/60000 [==============================] - 30s 501us/step - loss: 0.1378 - acc: 0.9626 - val_loss: 0.0619 - val_acc: 0.9802\n",
      "Epoch 10/10\n",
      "60000/60000 [==============================] - 30s 499us/step - loss: 0.1273 - acc: 0.9652 - val_loss: 0.0559 - val_acc: 0.9813\n"
     ]
    }
   ],
   "source": [
    "history = model.fit(X_train_norm, \n",
    "                    Y_train_one_hot, \n",
    "                    batch_size=batch_size, \n",
    "                    epochs=num_epochs, \n",
    "                    verbose=1, \n",
    "                    validation_data=(X_test_norm, Y_test_one_hot))"
   ]
  },
  {
   "cell_type": "markdown",
   "metadata": {},
   "source": [
    "## Resultados de entrenamiento"
   ]
  },
  {
   "cell_type": "markdown",
   "metadata": {},
   "source": [
    "Se grafica la precisión obtenida en cada iteración del entrenamiento. Se debe siempre analizar para los datos de entrenamiento y los datos de validación."
   ]
  },
  {
   "cell_type": "code",
   "execution_count": 47,
   "metadata": {},
   "outputs": [
    {
     "data": {
      "image/png": "[encoded data removed]",
      "text/plain": [
       "<Figure size 432x288 with 1 Axes>"
      ]
     },
     "metadata": {
      "needs_background": "light"
     },
     "output_type": "display_data"
    }
   ],
   "source": [
    "# summarize history for accuracy\n",
    "plt.figure(1)\n",
    "plt.plot(history.history['acc'])\n",
    "plt.plot(history.history['val_acc'])\n",
    "plt.title('Precisión del modelo')\n",
    "plt.ylabel('Precisión en %')\n",
    "plt.xlabel('Iteración')\n",
    "plt.legend(['datos de entrenamiento', 'datos de validación'], loc='upper left')\n",
    "plt.show()"
   ]
  },
  {
   "cell_type": "markdown",
   "metadata": {},
   "source": [
    "## Clasificando dígitos"
   ]
  },
  {
   "cell_type": "markdown",
   "metadata": {},
   "source": [
    "Se clasifican 9 números aleatorios del conjunto de datos de validación."
   ]
  },
  {
   "cell_type": "code",
   "execution_count": 49,
   "metadata": {},
   "outputs": [
    {
     "data": {
      "image/png": "[encoded data removed]",
      "text/plain": [
       "<Figure size 576x576 with 9 Axes>"
      ]
     },
     "metadata": {},
     "output_type": "display_data"
    }
   ],
   "source": [
    "random_index = random.randint(0, np.round(X_test_norm.shape[0]/ 2))\n",
    "predictions = model.predict_classes(X_test_norm[random_index:random_index+9]) # Se realizan las predicciones\n",
    "plt.figure(figsize=(8, 8)) # Se crea la figura para graficar\n",
    "i = 0\n",
    "\n",
    "for i in range(random_index, random_index+9):\n",
    "    plt.subplot(3, 3, i+1-random_index)\n",
    "    plt.imshow(X_test[i], cmap='gray')\n",
    "    plt.gca().get_xaxis().set_ticks([])\n",
    "    plt.gca().get_yaxis().set_ticks([])\n",
    "    plt.ylabel(\"prediction = %d\" % predictions[i - random_index], fontsize = 15)"
   ]
  },
  {
   "cell_type": "code",
   "execution_count": null,
   "metadata": {},
   "outputs": [],
   "source": []
  }
 ],
 "metadata": {
  "kernelspec": {
   "display_name": "Python 3",
   "language": "python",
   "name": "python3"
  },
  "language_info": {
   "codemirror_mode": {
    "name": "ipython",
    "version": 3
   },
   "file_extension": ".py",
   "mimetype": "text/x-python",
   "name": "python",
   "nbconvert_exporter": "python",
   "pygments_lexer": "ipython3",
   "version": "3.7.3"
  }
 },
 "nbformat": 4,
 "nbformat_minor": 2
}
