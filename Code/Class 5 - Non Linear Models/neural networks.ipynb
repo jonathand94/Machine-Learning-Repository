{
 "cells": [
  {
   "cell_type": "markdown",
   "metadata": {},
   "source": [
    "# <center>PROGRAMANDO LA PRIMERA RED NEURONAL</center>"
   ]
  },
  {
   "cell_type": "markdown",
   "metadata": {},
   "source": [
    "## Importar librerías \n",
    "Primero que nada, debemos de importar las librerías que vamos a estar utilizando. Entre éstas se encuentran Keras (librería que permite hacer redes neuronales), Numpy (librería para manipular matrices y arreglos de manera eficiente), así como PyPlot (para graficar datos). "
   ]
  },
  {
   "cell_type": "code",
   "execution_count": 1,
   "metadata": {},
   "outputs": [
    {
     "name": "stderr",
     "output_type": "stream",
     "text": [
      "Using TensorFlow backend.\n"
     ]
    }
   ],
   "source": [
    "import numpy as np # Librería para manipular matrices eficientemente\n",
    "import matplotlib.pyplot as plt # Librería para graficar\n",
    "from keras.datasets import mnist # Se carga la base de datos con dígitos más popular del mundo: MNIST\n",
    "from keras.models import Sequential # Vamos a estar utilizando un modelo secuencial\n",
    "from keras.layers.core import Dense, Activation, Dropout # Importamos tdas las capas que usaremos de la red\n",
    "from keras.utils import np_utils # Utilidades para manejar datos de tensores con numpy\n",
    "import random\n",
    "import pandas as pd\n",
    "import warnings\n",
    "warnings.filterwarnings('ignore')"
   ]
  },
  {
   "cell_type": "markdown",
   "metadata": {},
   "source": [
    "## Definiendo los parámetros iniciales"
   ]
  },
  {
   "cell_type": "markdown",
   "metadata": {},
   "source": [
    "Se define primero el tamaño de la imagen:"
   ]
  },
  {
   "cell_type": "code",
   "execution_count": 2,
   "metadata": {},
   "outputs": [],
   "source": [
    "img_width, img_height = 28, 28 # Cada imagen en la base de datos es de 28 x 28 píxeles"
   ]
  },
  {
   "cell_type": "markdown",
   "metadata": {},
   "source": [
    "Ahora se establece el número de clases que existe en la base de datos. Para este caso, se sabe que existen 10 números o dígitos: 0 - 9."
   ]
  },
  {
   "cell_type": "code",
   "execution_count": 3,
   "metadata": {},
   "outputs": [],
   "source": [
    "num_classes = 10"
   ]
  },
  {
   "cell_type": "markdown",
   "metadata": {},
   "source": [
    "Para que la fase de entrenamiento sea mucho más rápida, se define cada iteración en diferentes lotes de datos. Es decir, para el caso de esta base de datos se tiene un total de 60,000 imágenes, las cuales se dividirán en lotes ó *\"batches\"* de 128 imágenes cada uno. Por razones teóricas, fundamentadas en el procesamiento digital, siempre se usan lotes que sean potencias de \"2\". Una iteración de entrenamiento ó *epoch* significa que ya se ingresaron las 60,000 imágenes en la red neuronal para ajustar los parámetros de la misma."
   ]
  },
  {
   "cell_type": "code",
   "execution_count": 4,
   "metadata": {},
   "outputs": [],
   "source": [
    "batch_size = 128"
   ]
  },
  {
   "cell_type": "markdown",
   "metadata": {},
   "source": [
    "Ahora es tiempo de definir el número de iteraciones de entrenamiento."
   ]
  },
  {
   "cell_type": "code",
   "execution_count": 5,
   "metadata": {},
   "outputs": [],
   "source": [
    "num_epochs = 10"
   ]
  },
  {
   "cell_type": "markdown",
   "metadata": {},
   "source": [
    "## Preprocesamiento de los datos"
   ]
  },
  {
   "cell_type": "markdown",
   "metadata": {},
   "source": [
    "Un paso fundamental en todo proyecto de Machine Learning es verificar las dimensiones de los datos de entrenamiento. La razón radica en el hecho de que se necesitan definir el número de neuronas en cada capa de la red neuronal; para esto, se necesitan saber las dimensiones de las matrices."
   ]
  },
  {
   "cell_type": "code",
   "execution_count": 6,
   "metadata": {},
   "outputs": [],
   "source": [
    "(X_train, Y_train), (X_test, Y_test) = mnist.load_data() #Se obtienen los datos de entrenamiento y validación"
   ]
  },
  {
   "cell_type": "code",
   "execution_count": 7,
   "metadata": {},
   "outputs": [
    {
     "name": "stdout",
     "output_type": "stream",
     "text": [
      "Dimensiones de los datos de entrenamiento X_train:  (60000, 28, 28)\n",
      "Dimensiones de los datos de validación X_test:  (10000, 28, 28)\n",
      "Dimensiones de las etiquetas de entrenamiento Y_train:  (60000,)\n",
      "Dimensiones de las etiquetas de entrenamiento Y_test:  (10000,)\n"
     ]
    }
   ],
   "source": [
    "print('Dimensiones de los datos de entrenamiento X_train: ', X_train.shape)\n",
    "print('Dimensiones de los datos de validación X_test: ', X_test.shape)\n",
    "print('Dimensiones de las etiquetas de entrenamiento Y_train: ', Y_train.shape)\n",
    "print('Dimensiones de las etiquetas de entrenamiento Y_test: ', Y_test.shape) "
   ]
  },
  {
   "cell_type": "markdown",
   "metadata": {},
   "source": [
    "Para que la red neuronal acepte los vectores, se deben de redimensionar de tal manera que queden con las siguientes dimensiones (numero de datos, numero de píxeles)"
   ]
  },
  {
   "cell_type": "code",
   "execution_count": 8,
   "metadata": {},
   "outputs": [
    {
     "name": "stdout",
     "output_type": "stream",
     "text": [
      "Dimensiones de los datos de entrenamiento re-dimensionados:  (60000, 784)\n",
      "Dimensiones de los datos de validación re-dimensionados:  (10000, 784)\n"
     ]
    }
   ],
   "source": [
    "X_train_reshaped = X_train.reshape(X_train.shape[0], img_width*img_height)\n",
    "X_test_reshaped = X_test.reshape(X_test.shape[0], img_width*img_height)\n",
    "\n",
    "print('Dimensiones de los datos de entrenamiento re-dimensionados: ', X_train_reshaped.shape)\n",
    "print('Dimensiones de los datos de validación re-dimensionados: ', X_test_reshaped.shape)"
   ]
  },
  {
   "cell_type": "markdown",
   "metadata": {},
   "source": [
    "Ahora es necesario estructurar los datos de etiquetas para que la red neuronal los acepte. El formato que se define se llama *one-hot vector* lo que significa que se definirá un vector con un número de dimensiones equivalente al número de clases que tengamos en la base de datos. Para este ejemplo, serían los 10 dígitos. En consecuencia, el vector contendrá un \"1\" en la posición de la clase a la que esté representando y \"0\" en todas las demás dimensiones.\n",
    "\n",
    "Ejemplo: las dimensiones del siguiente vector representan a cada dígito. Este vector representa a la etiqueta de una imágen que fue etiquetada como el número *\"3\"*.       \n",
    "       \n",
    "<center>V =( 0   0   0   1   0   0   0   0   0   0) </center>   "
   ]
  },
  {
   "cell_type": "code",
   "execution_count": 9,
   "metadata": {},
   "outputs": [
    {
     "name": "stdout",
     "output_type": "stream",
     "text": [
      "Representación de la 1° etiqueta de entrenamiento en formato one-hot:  [0. 0. 0. 0. 0. 1. 0. 0. 0. 0.]\n"
     ]
    }
   ],
   "source": [
    "Y_train_one_hot = np_utils.to_categorical(Y_train, num_classes) # Se transforma el vector en codificación \"one-hot\"\n",
    "Y_test_one_hot = np_utils.to_categorical(Y_test, num_classes) # Se transforma el vector en codificación \"one-hot\"\n",
    "print('Representación de la 1° etiqueta de entrenamiento en formato one-hot: ', Y_train_one_hot[0, :]) "
   ]
  },
  {
   "cell_type": "markdown",
   "metadata": {},
   "source": [
    "Ahora se requiere realizar una normalización de los pixeles. Para esto, se dividen todos los pixeles entre 255. Esto permite tener una escala pixélica entre 0 y 1; evitando así, que la red neuronal ponderé de manera equitativa a todos los píxeles."
   ]
  },
  {
   "cell_type": "code",
   "execution_count": 10,
   "metadata": {},
   "outputs": [],
   "source": [
    "X_train_norm = X_train_reshaped.astype('float32') / 255\n",
    "X_test_norm = X_test_reshaped.astype('float32') / 255"
   ]
  },
  {
   "cell_type": "markdown",
   "metadata": {},
   "source": [
    "Mostramos algunos ejemplos de las imágenes normalizadas"
   ]
  },
  {
   "cell_type": "code",
   "execution_count": 11,
   "metadata": {},
   "outputs": [
    {
     "data": {
      "image/png": "[encoded data removed]",
      "text/plain": [
       "<Figure size 432x288 with 9 Axes>"
      ]
     },
     "metadata": {
      "needs_background": "light"
     },
     "output_type": "display_data"
    }
   ],
   "source": [
    "for i in range(9): # Iteramos en 9 imágenes\n",
    "    plt.subplot(3, 3, i+1) # Creamos una matriz de 3 x 3 imágenes\n",
    "    plt.imshow(X_train[i, :, :], cmap = 'gray') # Mostramos las primeras 9 imágenes\n",
    "    plt.axis('off')"
   ]
  },
  {
   "cell_type": "markdown",
   "metadata": {},
   "source": [
    "## Crear el modelo de la Red Neuronal "
   ]
  },
  {
   "cell_type": "markdown",
   "metadata": {},
   "source": [
    "Se definen los parámetros de la arquitectura, tales como el número de neuronas y la probabilidad de desactivación para el regularizador."
   ]
  },
  {
   "cell_type": "code",
   "execution_count": 12,
   "metadata": {},
   "outputs": [],
   "source": [
    "num_neurons_input = 500 # Número de neuronas en la capa de entrada\n",
    "num_neurons_hidden_1 = 250 # Número de neuronas en la 1° capa oculta\n",
    "num_neurons_hidden_2 = 125 # Número de neuronas en la 2° capa oculta\n",
    "prob_drop_out = 0.25 # Probabilidad de desactivar neuronas"
   ]
  },
  {
   "cell_type": "markdown",
   "metadata": {},
   "source": [
    "Se creará una red neuronal con tres capas: la de entradas, la oculta y la de salida. Se usará la función ReLU como función de activación para todas las capas excepto la de salida. Para la capa de salida, se usará una función llamada *softmax*, la cuál es una extensión o generalización de la función sigmoide; usada para estimar múltiples clases."
   ]
  },
  {
   "cell_type": "code",
   "execution_count": 13,
   "metadata": {},
   "outputs": [
    {
     "name": "stdout",
     "output_type": "stream",
     "text": [
      "WARNING:tensorflow:From C:\\Users\\jonat\\Anaconda3\\envs\\tensorflow-gpu\\lib\\site-packages\\tensorflow\\python\\framework\\op_def_library.py:263: colocate_with (from tensorflow.python.framework.ops) is deprecated and will be removed in a future version.\n",
      "Instructions for updating:\n",
      "Colocations handled automatically by placer.\n",
      "WARNING:tensorflow:From C:\\Users\\jonat\\Anaconda3\\envs\\tensorflow-gpu\\lib\\site-packages\\keras\\backend\\tensorflow_backend.py:3445: calling dropout (from tensorflow.python.ops.nn_ops) with keep_prob is deprecated and will be removed in a future version.\n",
      "Instructions for updating:\n",
      "Please use `rate` instead of `keep_prob`. Rate should be set to `rate = 1 - keep_prob`.\n"
     ]
    }
   ],
   "source": [
    "# Se crea el modelo como un modelo secuencial\n",
    "model = Sequential() \n",
    "\n",
    "# Se añade la capa de entradas\n",
    "model.add(Dense(units = num_neurons_input, \n",
    "                input_dim = img_width*img_height, \n",
    "                activation = 'relu', \n",
    "                use_bias=True, \n",
    "                kernel_initializer='glorot_uniform')) \n",
    "\n",
    "# Se añade un regularizador para evitar sobreajuste de curvas\n",
    "model.add(Dropout(prob_drop_out))\n",
    "\n",
    "# Se añade la 1° capa oculta \n",
    "model.add(Dense(units = num_neurons_hidden_1, \n",
    "                activation = 'relu', \n",
    "                use_bias=True, \n",
    "                kernel_initializer='glorot_uniform'))\n",
    "\n",
    "# Se añade un regularizador para evitar sobreajuste de curvas\n",
    "model.add(Dropout(prob_drop_out))\n",
    "\n",
    "# Se añade la 2° capa oculta \n",
    "model.add(Dense(units = num_neurons_hidden_2, \n",
    "                activation = 'relu', \n",
    "                use_bias=True, \n",
    "                kernel_initializer='glorot_uniform'))\n",
    "\n",
    "# Se añade la capa de salidas\n",
    "model.add(Dense(units = num_classes, activation = 'softmax')) "
   ]
  },
  {
   "cell_type": "markdown",
   "metadata": {},
   "source": [
    "Se compila el modelo. Se usa un descenso por gradiente esocástico para optimizar la función de costo de pérdida logarítmica.Y se define precisión como métrica de evaluación"
   ]
  },
  {
   "cell_type": "code",
   "execution_count": 14,
   "metadata": {},
   "outputs": [],
   "source": [
    "model.compile(loss='categorical_crossentropy', optimizer= 'sgd', metrics = ['accuracy'])"
   ]
  },
  {
   "cell_type": "markdown",
   "metadata": {},
   "source": [
    "## Entrenamiento de la Red Neuronal "
   ]
  },
  {
   "cell_type": "markdown",
   "metadata": {},
   "source": [
    "Se define el entrenamiento de la red neuronal con todos los parámetros que hemos definido hasta ahora."
   ]
  },
  {
   "cell_type": "code",
   "execution_count": 15,
   "metadata": {},
   "outputs": [
    {
     "name": "stdout",
     "output_type": "stream",
     "text": [
      "WARNING:tensorflow:From C:\\Users\\jonat\\Anaconda3\\envs\\tensorflow-gpu\\lib\\site-packages\\tensorflow\\python\\ops\\math_ops.py:3066: to_int32 (from tensorflow.python.ops.math_ops) is deprecated and will be removed in a future version.\n",
      "Instructions for updating:\n",
      "Use tf.cast instead.\n",
      "Train on 60000 samples, validate on 10000 samples\n",
      "Epoch 1/10\n",
      "60000/60000 [==============================] - 4s 75us/step - loss: 1.3464 - acc: 0.6074 - val_loss: 0.5427 - val_acc: 0.8583\n",
      "Epoch 2/10\n",
      "60000/60000 [==============================] - 2s 39us/step - loss: 0.5660 - acc: 0.8318 - val_loss: 0.3670 - val_acc: 0.8975\n",
      "Epoch 3/10\n",
      "60000/60000 [==============================] - 2s 37us/step - loss: 0.4402 - acc: 0.8690 - val_loss: 0.3068 - val_acc: 0.9152\n",
      "Epoch 4/10\n",
      "60000/60000 [==============================] - 2s 38us/step - loss: 0.3805 - acc: 0.8878 - val_loss: 0.2724 - val_acc: 0.9214\n",
      "Epoch 5/10\n",
      "60000/60000 [==============================] - 2s 41us/step - loss: 0.3435 - acc: 0.8984 - val_loss: 0.2491 - val_acc: 0.9276\n",
      "Epoch 6/10\n",
      "60000/60000 [==============================] - 2s 39us/step - loss: 0.3124 - acc: 0.9086 - val_loss: 0.2282 - val_acc: 0.9334\n",
      "Epoch 7/10\n",
      "60000/60000 [==============================] - 2s 39us/step - loss: 0.2901 - acc: 0.9145 - val_loss: 0.2127 - val_acc: 0.9374\n",
      "Epoch 8/10\n",
      "60000/60000 [==============================] - 2s 38us/step - loss: 0.2686 - acc: 0.9210 - val_loss: 0.1982 - val_acc: 0.9412\n",
      "Epoch 9/10\n",
      "60000/60000 [==============================] - 2s 38us/step - loss: 0.2499 - acc: 0.9261 - val_loss: 0.1855 - val_acc: 0.9443\n",
      "Epoch 10/10\n",
      "60000/60000 [==============================] - 2s 39us/step - loss: 0.2372 - acc: 0.9306 - val_loss: 0.1775 - val_acc: 0.9470\n"
     ]
    }
   ],
   "source": [
    "history = model.fit(X_train_norm, \n",
    "                    Y_train_one_hot, \n",
    "                    batch_size=batch_size, \n",
    "                    epochs=num_epochs, \n",
    "                    verbose=1, \n",
    "                    validation_data=(X_test_norm, Y_test_one_hot))"
   ]
  },
  {
   "cell_type": "markdown",
   "metadata": {},
   "source": [
    "## Resultados de entrenamiento"
   ]
  },
  {
   "cell_type": "markdown",
   "metadata": {},
   "source": [
    "Se grafica la precisión obtenida en cada iteración del entrenamiento. Se debe siempre analizar para los datos de entrenamiento y los datos de validación."
   ]
  },
  {
   "cell_type": "code",
   "execution_count": 16,
   "metadata": {},
   "outputs": [
    {
     "data": {
      "image/png": "[encoded data removed]",
      "text/plain": [
       "<Figure size 432x288 with 1 Axes>"
      ]
     },
     "metadata": {
      "needs_background": "light"
     },
     "output_type": "display_data"
    }
   ],
   "source": [
    "# summarize history for accuracy\n",
    "plt.figure(1)\n",
    "plt.plot(history.history['acc'])\n",
    "plt.plot(history.history['val_acc'])\n",
    "plt.title('Precisión del modelo')\n",
    "plt.ylabel('Precisión en %')\n",
    "plt.xlabel('Iteración')\n",
    "plt.legend(['datos de entrenamiento', 'datos de validación'], loc='upper left')\n",
    "plt.show()"
   ]
  },
  {
   "cell_type": "markdown",
   "metadata": {},
   "source": [
    "## Clasificando dígitos"
   ]
  },
  {
   "cell_type": "markdown",
   "metadata": {},
   "source": [
    "Se clasifican 9 números aleatorios del conjunto de datos de validación."
   ]
  },
  {
   "cell_type": "code",
   "execution_count": 17,
   "metadata": {},
   "outputs": [
    {
     "data": {
      "image/png": "[encoded data removed]",
      "text/plain": [
       "<Figure size 576x576 with 9 Axes>"
      ]
     },
     "metadata": {},
     "output_type": "display_data"
    }
   ],
   "source": [
    "random_index = random.randint(0, np.round(X_test_norm.shape[0]/ 2))\n",
    "predictions = model.predict_classes(X_test_norm[random_index:random_index+9]) # Se realizan las predicciones\n",
    "plt.figure(figsize=(8, 8)) # Se crea la figura para graficar\n",
    "i = 0\n",
    "\n",
    "for i in range(random_index, random_index+9):\n",
    "    plt.subplot(3, 3, i+1-random_index)\n",
    "    plt.imshow(X_test[i], cmap='gray')\n",
    "    plt.gca().get_xaxis().set_ticks([])\n",
    "    plt.gca().get_yaxis().set_ticks([])\n",
    "    plt.ylabel(\"prediction = %d\" % predictions[i - random_index], fontsize = 15)\n"
   ]
  },
  {
   "cell_type": "markdown",
   "metadata": {},
   "source": [
    "# Clasificando paciente con diabetes"
   ]
  },
  {
   "cell_type": "markdown",
   "metadata": {},
   "source": [
    "## Se cargan los datos:"
   ]
  },
  {
   "cell_type": "markdown",
   "metadata": {},
   "source": [
    "Ahora vamos a ver un problema de clasificación del mundo real. De manera específica, trataremos de resolver un problema para predecir si un paciente dado presenta o no diabetes en función de 8 características clínicas.\n",
    "\n",
    "La base de datos se consiguió de: https://www.kaggle.com/edubrq/diabetes, que presenta 768 pacientes femeninos mayores de 21 años de edad. De estos pacientes, se descartaron todos aquellos que no presentarán datos de alguna de las 8 características propuestas, para evitar inducir ruido al modelo.\n",
    "\n",
    "Con este filtro se obtuvieron un total de 392 pacientes."
   ]
  },
  {
   "cell_type": "code",
   "execution_count": 19,
   "metadata": {},
   "outputs": [
    {
     "data": {
      "text/html": [
       "<div>\n",
       "<style scoped>\n",
       "    .dataframe tbody tr th:only-of-type {\n",
       "        vertical-align: middle;\n",
       "    }\n",
       "\n",
       "    .dataframe tbody tr th {\n",
       "        vertical-align: top;\n",
       "    }\n",
       "\n",
       "    .dataframe thead th {\n",
       "        text-align: right;\n",
       "    }\n",
       "</style>\n",
       "<table border=\"1\" class=\"dataframe\">\n",
       "  <thead>\n",
       "    <tr style=\"text-align: right;\">\n",
       "      <th></th>\n",
       "      <th>Pregnancies</th>\n",
       "      <th>Glucose</th>\n",
       "      <th>BloodPressure</th>\n",
       "      <th>SkinThickness</th>\n",
       "      <th>Insulin</th>\n",
       "      <th>BMI</th>\n",
       "      <th>DiabetesPedigreeFunction</th>\n",
       "      <th>Age</th>\n",
       "      <th>Outcome</th>\n",
       "    </tr>\n",
       "  </thead>\n",
       "  <tbody>\n",
       "    <tr>\n",
       "      <th>0</th>\n",
       "      <td>1</td>\n",
       "      <td>89</td>\n",
       "      <td>66</td>\n",
       "      <td>23</td>\n",
       "      <td>94</td>\n",
       "      <td>28.1</td>\n",
       "      <td>0.167</td>\n",
       "      <td>21</td>\n",
       "      <td>0</td>\n",
       "    </tr>\n",
       "    <tr>\n",
       "      <th>1</th>\n",
       "      <td>0</td>\n",
       "      <td>137</td>\n",
       "      <td>40</td>\n",
       "      <td>35</td>\n",
       "      <td>168</td>\n",
       "      <td>43.1</td>\n",
       "      <td>2.288</td>\n",
       "      <td>33</td>\n",
       "      <td>1</td>\n",
       "    </tr>\n",
       "    <tr>\n",
       "      <th>2</th>\n",
       "      <td>3</td>\n",
       "      <td>78</td>\n",
       "      <td>50</td>\n",
       "      <td>32</td>\n",
       "      <td>88</td>\n",
       "      <td>31.0</td>\n",
       "      <td>0.248</td>\n",
       "      <td>26</td>\n",
       "      <td>1</td>\n",
       "    </tr>\n",
       "    <tr>\n",
       "      <th>3</th>\n",
       "      <td>2</td>\n",
       "      <td>197</td>\n",
       "      <td>70</td>\n",
       "      <td>45</td>\n",
       "      <td>543</td>\n",
       "      <td>30.5</td>\n",
       "      <td>0.158</td>\n",
       "      <td>53</td>\n",
       "      <td>1</td>\n",
       "    </tr>\n",
       "    <tr>\n",
       "      <th>4</th>\n",
       "      <td>1</td>\n",
       "      <td>189</td>\n",
       "      <td>60</td>\n",
       "      <td>23</td>\n",
       "      <td>846</td>\n",
       "      <td>30.1</td>\n",
       "      <td>0.398</td>\n",
       "      <td>59</td>\n",
       "      <td>1</td>\n",
       "    </tr>\n",
       "  </tbody>\n",
       "</table>\n",
       "</div>"
      ],
      "text/plain": [
       "   Pregnancies  Glucose  BloodPressure  SkinThickness  Insulin   BMI  \\\n",
       "0            1       89             66             23       94  28.1   \n",
       "1            0      137             40             35      168  43.1   \n",
       "2            3       78             50             32       88  31.0   \n",
       "3            2      197             70             45      543  30.5   \n",
       "4            1      189             60             23      846  30.1   \n",
       "\n",
       "   DiabetesPedigreeFunction  Age  Outcome  \n",
       "0                     0.167   21        0  \n",
       "1                     2.288   33        1  \n",
       "2                     0.248   26        1  \n",
       "3                     0.158   53        1  \n",
       "4                     0.398   59        1  "
      ]
     },
     "execution_count": 19,
     "metadata": {},
     "output_type": "execute_result"
    }
   ],
   "source": [
    "# Se cargan los datos con la librería Pandas\n",
    "data = pd.read_csv('diabetes.csv')\n",
    "data.head()"
   ]
  },
  {
   "cell_type": "markdown",
   "metadata": {},
   "source": [
    "## Pre-procesamiento de los datos:"
   ]
  },
  {
   "cell_type": "code",
   "execution_count": 20,
   "metadata": {},
   "outputs": [
    {
     "name": "stdout",
     "output_type": "stream",
     "text": [
      "(392, 8) (392, 1)\n"
     ]
    }
   ],
   "source": [
    "# Split columns of Excel Table\n",
    "x_data = data.loc[:, data.columns != 'Outcome'].values\n",
    "y_data = np.array([data['Outcome'].values]).T\n",
    "print(x_data.shape, y_data.shape)"
   ]
  },
  {
   "cell_type": "code",
   "execution_count": 21,
   "metadata": {},
   "outputs": [
    {
     "name": "stdout",
     "output_type": "stream",
     "text": [
      "(274, 9) (118, 9) (274, 1) (118, 1)\n"
     ]
    }
   ],
   "source": [
    "# Normalize features (each column)\n",
    "x_data_norm = (x_data - x_data.min(0)) / x_data.ptp(0)\n",
    "\n",
    "# Randomize\n",
    "idx = [i for i in range(len(y_data))]\n",
    "random.shuffle(idx)\n",
    "x_data_norm = x_data_norm[idx] \n",
    "y_data = y_data[idx]\n",
    "\n",
    "# We split training data and add bias\n",
    "x_b = np.insert(x_data_norm, 0, 1, axis=1)\n",
    "\n",
    "# Split 70% / 30%\n",
    "x_train = x_b[0:round(0.7*x_b.shape[0])]\n",
    "x_test = x_b[round(0.7*x_b.shape[0]):]\n",
    "y_train = y_data[0:round(0.7*y_data.shape[0])]\n",
    "y_test = y_data[round(0.7*y_data.shape[0]):]\n",
    "\n",
    "print(x_train.shape, x_test.shape, y_train.shape, y_test.shape)"
   ]
  },
  {
   "cell_type": "markdown",
   "metadata": {},
   "source": [
    "## Usando el mismo modelo para entrenarlo:"
   ]
  },
  {
   "cell_type": "code",
   "execution_count": 22,
   "metadata": {},
   "outputs": [],
   "source": [
    "# Especificamos las iteraciones y el alpha\n",
    "batch_size = 274\n",
    "num_epochs = 60"
   ]
  },
  {
   "cell_type": "code",
   "execution_count": 23,
   "metadata": {},
   "outputs": [],
   "source": [
    "# Se crea el modelo como un modelo secuencial\n",
    "model = Sequential() \n",
    "\n",
    "model.add(Dense(units = num_neurons_input, \n",
    "                input_dim = x_train.shape[1], \n",
    "                activation = 'relu', \n",
    "                use_bias=True, \n",
    "                kernel_initializer='glorot_uniform')) \n",
    "\n",
    "model.add(Dropout(prob_drop_out))\n",
    "\n",
    "model.add(Dense(units = num_neurons_hidden_1, \n",
    "                activation = 'relu', \n",
    "                use_bias=True, \n",
    "                kernel_initializer='glorot_uniform'))\n",
    "\n",
    "model.add(Dropout(prob_drop_out))\n",
    "\n",
    "model.add(Dense(units = num_neurons_hidden_2, \n",
    "                activation = 'relu', \n",
    "                use_bias=True, \n",
    "                kernel_initializer='glorot_uniform'))\n",
    "\n",
    "model.add(Dense(units = 1, activation = 'sigmoid')) "
   ]
  },
  {
   "cell_type": "code",
   "execution_count": 24,
   "metadata": {},
   "outputs": [
    {
     "name": "stdout",
     "output_type": "stream",
     "text": [
      "Train on 274 samples, validate on 118 samples\n",
      "Epoch 1/60\n",
      "274/274 [==============================] - 1s 2ms/step - loss: 0.7067 - acc: 0.3467 - val_loss: 0.6715 - val_acc: 0.6864\n",
      "Epoch 2/60\n",
      "274/274 [==============================] - 0s 22us/step - loss: 0.6793 - acc: 0.6533 - val_loss: 0.6513 - val_acc: 0.6864\n",
      "Epoch 3/60\n",
      "274/274 [==============================] - 0s 25us/step - loss: 0.6601 - acc: 0.6606 - val_loss: 0.6385 - val_acc: 0.6864\n",
      "Epoch 4/60\n",
      "274/274 [==============================] - 0s 40us/step - loss: 0.6501 - acc: 0.6606 - val_loss: 0.6282 - val_acc: 0.6864\n",
      "Epoch 5/60\n",
      "274/274 [==============================] - 0s 22us/step - loss: 0.6428 - acc: 0.6606 - val_loss: 0.6206 - val_acc: 0.6864\n",
      "Epoch 6/60\n",
      "274/274 [==============================] - 0s 25us/step - loss: 0.6397 - acc: 0.6606 - val_loss: 0.6140 - val_acc: 0.6864\n",
      "Epoch 7/60\n",
      "274/274 [==============================] - 0s 33us/step - loss: 0.6289 - acc: 0.6606 - val_loss: 0.6058 - val_acc: 0.6864\n",
      "Epoch 8/60\n",
      "274/274 [==============================] - 0s 33us/step - loss: 0.6243 - acc: 0.6606 - val_loss: 0.5946 - val_acc: 0.6864\n",
      "Epoch 9/60\n",
      "274/274 [==============================] - 0s 40us/step - loss: 0.6086 - acc: 0.6606 - val_loss: 0.5817 - val_acc: 0.6864\n",
      "Epoch 10/60\n",
      "274/274 [==============================] - 0s 29us/step - loss: 0.6020 - acc: 0.6606 - val_loss: 0.5692 - val_acc: 0.6864\n",
      "Epoch 11/60\n",
      "274/274 [==============================] - 0s 36us/step - loss: 0.5824 - acc: 0.6752 - val_loss: 0.5587 - val_acc: 0.7203\n",
      "Epoch 12/60\n",
      "274/274 [==============================] - 0s 29us/step - loss: 0.5783 - acc: 0.6825 - val_loss: 0.5499 - val_acc: 0.7797\n",
      "Epoch 13/60\n",
      "274/274 [==============================] - 0s 29us/step - loss: 0.5631 - acc: 0.7445 - val_loss: 0.5393 - val_acc: 0.7966\n",
      "Epoch 14/60\n",
      "274/274 [==============================] - 0s 29us/step - loss: 0.5468 - acc: 0.7810 - val_loss: 0.5238 - val_acc: 0.7881\n",
      "Epoch 15/60\n",
      "274/274 [==============================] - 0s 33us/step - loss: 0.5397 - acc: 0.7591 - val_loss: 0.5053 - val_acc: 0.7966\n",
      "Epoch 16/60\n",
      "274/274 [==============================] - 0s 33us/step - loss: 0.5249 - acc: 0.7701 - val_loss: 0.4885 - val_acc: 0.7966\n",
      "Epoch 17/60\n",
      "274/274 [==============================] - 0s 33us/step - loss: 0.5040 - acc: 0.7555 - val_loss: 0.4756 - val_acc: 0.7966\n",
      "Epoch 18/60\n",
      "274/274 [==============================] - 0s 33us/step - loss: 0.4867 - acc: 0.7993 - val_loss: 0.4640 - val_acc: 0.7966\n",
      "Epoch 19/60\n",
      "274/274 [==============================] - 0s 33us/step - loss: 0.4948 - acc: 0.7628 - val_loss: 0.4521 - val_acc: 0.7881\n",
      "Epoch 20/60\n",
      "274/274 [==============================] - 0s 36us/step - loss: 0.4758 - acc: 0.7774 - val_loss: 0.4437 - val_acc: 0.7797\n",
      "Epoch 21/60\n",
      "274/274 [==============================] - 0s 36us/step - loss: 0.4758 - acc: 0.7847 - val_loss: 0.4403 - val_acc: 0.7627\n",
      "Epoch 22/60\n",
      "274/274 [==============================] - 0s 36us/step - loss: 0.4661 - acc: 0.7847 - val_loss: 0.4367 - val_acc: 0.7627\n",
      "Epoch 23/60\n",
      "274/274 [==============================] - 0s 29us/step - loss: 0.4536 - acc: 0.7956 - val_loss: 0.4300 - val_acc: 0.7627\n",
      "Epoch 24/60\n",
      "274/274 [==============================] - 0s 36us/step - loss: 0.4615 - acc: 0.7810 - val_loss: 0.4246 - val_acc: 0.7797\n",
      "Epoch 25/60\n",
      "274/274 [==============================] - 0s 44us/step - loss: 0.4594 - acc: 0.7847 - val_loss: 0.4226 - val_acc: 0.7881\n",
      "Epoch 26/60\n",
      "274/274 [==============================] - 0s 29us/step - loss: 0.4566 - acc: 0.7774 - val_loss: 0.4216 - val_acc: 0.7881\n",
      "Epoch 27/60\n",
      "274/274 [==============================] - 0s 47us/step - loss: 0.4512 - acc: 0.7920 - val_loss: 0.4204 - val_acc: 0.7712\n",
      "Epoch 28/60\n",
      "274/274 [==============================] - 0s 33us/step - loss: 0.4485 - acc: 0.7810 - val_loss: 0.4238 - val_acc: 0.7542\n",
      "Epoch 29/60\n",
      "274/274 [==============================] - 0s 33us/step - loss: 0.4538 - acc: 0.7810 - val_loss: 0.4248 - val_acc: 0.7458\n",
      "Epoch 30/60\n",
      "274/274 [==============================] - 0s 36us/step - loss: 0.4548 - acc: 0.7701 - val_loss: 0.4219 - val_acc: 0.7458\n",
      "Epoch 31/60\n",
      "274/274 [==============================] - 0s 40us/step - loss: 0.4446 - acc: 0.7847 - val_loss: 0.4180 - val_acc: 0.7627\n",
      "Epoch 32/60\n",
      "274/274 [==============================] - 0s 44us/step - loss: 0.4569 - acc: 0.7701 - val_loss: 0.4169 - val_acc: 0.7712\n",
      "Epoch 33/60\n",
      "274/274 [==============================] - 0s 36us/step - loss: 0.4584 - acc: 0.7701 - val_loss: 0.4167 - val_acc: 0.7797\n",
      "Epoch 34/60\n",
      "274/274 [==============================] - 0s 40us/step - loss: 0.4464 - acc: 0.7810 - val_loss: 0.4201 - val_acc: 0.7542\n",
      "Epoch 35/60\n",
      "274/274 [==============================] - 0s 33us/step - loss: 0.4552 - acc: 0.7810 - val_loss: 0.4238 - val_acc: 0.7458\n",
      "Epoch 36/60\n",
      "274/274 [==============================] - 0s 40us/step - loss: 0.4378 - acc: 0.8102 - val_loss: 0.4233 - val_acc: 0.7542\n",
      "Epoch 37/60\n",
      "274/274 [==============================] - 0s 36us/step - loss: 0.4531 - acc: 0.8029 - val_loss: 0.4202 - val_acc: 0.7627\n",
      "Epoch 38/60\n",
      "274/274 [==============================] - 0s 33us/step - loss: 0.4256 - acc: 0.8102 - val_loss: 0.4170 - val_acc: 0.7797\n",
      "Epoch 39/60\n",
      "274/274 [==============================] - 0s 25us/step - loss: 0.4305 - acc: 0.8102 - val_loss: 0.4164 - val_acc: 0.7881\n",
      "Epoch 40/60\n",
      "274/274 [==============================] - 0s 33us/step - loss: 0.4444 - acc: 0.7847 - val_loss: 0.4165 - val_acc: 0.7881\n",
      "Epoch 41/60\n",
      "274/274 [==============================] - 0s 36us/step - loss: 0.4381 - acc: 0.7993 - val_loss: 0.4167 - val_acc: 0.7797\n",
      "Epoch 42/60\n",
      "274/274 [==============================] - 0s 24us/step - loss: 0.4474 - acc: 0.7993 - val_loss: 0.4192 - val_acc: 0.7712\n",
      "Epoch 43/60\n",
      "274/274 [==============================] - 0s 29us/step - loss: 0.4377 - acc: 0.7920 - val_loss: 0.4219 - val_acc: 0.7458\n",
      "Epoch 44/60\n",
      "274/274 [==============================] - 0s 36us/step - loss: 0.4343 - acc: 0.7847 - val_loss: 0.4205 - val_acc: 0.7458\n",
      "Epoch 45/60\n",
      "274/274 [==============================] - 0s 25us/step - loss: 0.4464 - acc: 0.8029 - val_loss: 0.4176 - val_acc: 0.7712\n",
      "Epoch 46/60\n",
      "274/274 [==============================] - 0s 25us/step - loss: 0.4398 - acc: 0.8066 - val_loss: 0.4151 - val_acc: 0.7797\n",
      "Epoch 47/60\n",
      "274/274 [==============================] - 0s 29us/step - loss: 0.4409 - acc: 0.7993 - val_loss: 0.4140 - val_acc: 0.7797\n",
      "Epoch 48/60\n",
      "274/274 [==============================] - 0s 29us/step - loss: 0.4317 - acc: 0.7956 - val_loss: 0.4136 - val_acc: 0.7797\n",
      "Epoch 49/60\n",
      "274/274 [==============================] - 0s 29us/step - loss: 0.4249 - acc: 0.7847 - val_loss: 0.4146 - val_acc: 0.7712\n",
      "Epoch 50/60\n",
      "274/274 [==============================] - 0s 25us/step - loss: 0.4500 - acc: 0.7883 - val_loss: 0.4170 - val_acc: 0.7373\n",
      "Epoch 51/60\n",
      "274/274 [==============================] - 0s 33us/step - loss: 0.4367 - acc: 0.8029 - val_loss: 0.4172 - val_acc: 0.7458\n",
      "Epoch 52/60\n",
      "274/274 [==============================] - 0s 33us/step - loss: 0.4235 - acc: 0.7847 - val_loss: 0.4145 - val_acc: 0.7458\n",
      "Epoch 53/60\n",
      "274/274 [==============================] - 0s 33us/step - loss: 0.4244 - acc: 0.8029 - val_loss: 0.4121 - val_acc: 0.7627\n",
      "Epoch 54/60\n",
      "274/274 [==============================] - 0s 33us/step - loss: 0.4255 - acc: 0.7956 - val_loss: 0.4108 - val_acc: 0.7712\n",
      "Epoch 55/60\n",
      "274/274 [==============================] - 0s 25us/step - loss: 0.4337 - acc: 0.7810 - val_loss: 0.4105 - val_acc: 0.7712\n",
      "Epoch 56/60\n",
      "274/274 [==============================] - 0s 36us/step - loss: 0.4264 - acc: 0.7737 - val_loss: 0.4114 - val_acc: 0.7542\n",
      "Epoch 57/60\n",
      "274/274 [==============================] - 0s 40us/step - loss: 0.4317 - acc: 0.7956 - val_loss: 0.4136 - val_acc: 0.7458\n",
      "Epoch 58/60\n",
      "274/274 [==============================] - 0s 25us/step - loss: 0.4156 - acc: 0.7993 - val_loss: 0.4133 - val_acc: 0.7458\n",
      "Epoch 59/60\n",
      "274/274 [==============================] - 0s 29us/step - loss: 0.4306 - acc: 0.7847 - val_loss: 0.4104 - val_acc: 0.7373\n",
      "Epoch 60/60\n",
      "274/274 [==============================] - 0s 29us/step - loss: 0.4355 - acc: 0.7920 - val_loss: 0.4075 - val_acc: 0.7627\n"
     ]
    }
   ],
   "source": [
    "# Se entrena el modelo\n",
    "model.compile(loss='binary_crossentropy', optimizer= 'adam', metrics = ['accuracy'])\n",
    "history = model.fit(x_train, \n",
    "                    y_train, \n",
    "                    batch_size=batch_size, \n",
    "                    epochs=num_epochs, \n",
    "                    verbose=1, \n",
    "                    validation_data=(x_test, y_test))"
   ]
  },
  {
   "cell_type": "markdown",
   "metadata": {},
   "source": [
    "## Resultados de entrenamiento"
   ]
  },
  {
   "cell_type": "code",
   "execution_count": 25,
   "metadata": {},
   "outputs": [
    {
     "data": {
      "image/png": "[encoded data removed]",
      "text/plain": [
       "<Figure size 432x288 with 1 Axes>"
      ]
     },
     "metadata": {
      "needs_background": "light"
     },
     "output_type": "display_data"
    }
   ],
   "source": [
    "# summarize history for log loss\n",
    "plt.figure(1)\n",
    "plt.plot(history.history['loss'])\n",
    "plt.plot(history.history['val_loss'])\n",
    "plt.title('Precisión del modelo')\n",
    "plt.ylabel('Precisión en %')\n",
    "plt.xlabel('Iteración')\n",
    "plt.legend(['datos de entrenamiento', 'datos de validación'], loc='upper left')\n",
    "plt.show()"
   ]
  },
  {
   "cell_type": "code",
   "execution_count": 26,
   "metadata": {},
   "outputs": [
    {
     "data": {
      "image/png": "[encoded data removed]",
      "text/plain": [
       "<Figure size 432x288 with 1 Axes>"
      ]
     },
     "metadata": {
      "needs_background": "light"
     },
     "output_type": "display_data"
    }
   ],
   "source": [
    "# summarize history for accuracy\n",
    "plt.figure(1)\n",
    "plt.plot(history.history['acc'])\n",
    "plt.plot(history.history['val_acc'])\n",
    "plt.title('Precisión del modelo')\n",
    "plt.ylabel('Precisión en %')\n",
    "plt.xlabel('Iteración')\n",
    "plt.legend(['datos de entrenamiento', 'datos de validación'], loc='upper left')\n",
    "plt.show()"
   ]
  },
  {
   "cell_type": "markdown",
   "metadata": {},
   "source": [
    "## ¿Porqué el modelo no tuvo tan buen rendimiento?"
   ]
  },
  {
   "cell_type": "code",
   "execution_count": 27,
   "metadata": {},
   "outputs": [],
   "source": [
    "# Extraemos dos características\n",
    "x1 = np.array([data['Glucose'].values.tolist()]).T\n",
    "x2 = np.array([data['BMI'].values.tolist()]).T\n",
    "y = np.array([data['Outcome'].values.tolist()]).T\n",
    "\n",
    "# Separamos pacientes con y sin diabetes\n",
    "pos_idx = (y == 1)\n",
    "neg_idx = (y == 0)\n",
    "y_pos = np.array([y[pos_idx]]).T\n",
    "y_neg = np.array([y[neg_idx]]).T\n",
    "x1_pos = np.array([x1[pos_idx]]).T\n",
    "x1_neg = np.array([x1[neg_idx]]).T\n",
    "x2_pos = np.array([x2[pos_idx]]).T\n",
    "x2_neg = np.array([x2[neg_idx]]).T"
   ]
  },
  {
   "cell_type": "code",
   "execution_count": 28,
   "metadata": {},
   "outputs": [
    {
     "data": {
      "text/plain": [
       "<matplotlib.legend.Legend at 0x1cd7a954358>"
      ]
     },
     "execution_count": 28,
     "metadata": {},
     "output_type": "execute_result"
    },
    {
     "data": {
      "image/png": "[encoded data removed]",
      "text/plain": [
       "<Figure size 432x288 with 1 Axes>"
      ]
     },
     "metadata": {
      "needs_background": "light"
     },
     "output_type": "display_data"
    }
   ],
   "source": [
    "# Graficamos\n",
    "plt.figure()\n",
    "plt.title('Classifying diabetes')\n",
    "plt.xlabel('Glucose')\n",
    "plt.ylabel('BMI')\n",
    "plt.scatter(x1_pos[:,0], x2_pos[:,0], color='r', label='Diabetes')\n",
    "plt.scatter(x1_neg[:,0], x2_neg[:,0], color='b', label='No Diabetes')\n",
    "plt.legend()"
   ]
  },
  {
   "cell_type": "markdown",
   "metadata": {},
   "source": [
    "Se observa que las clases no son linealmente separables, por lo que el problema de clasificación es mucho más complejo."
   ]
  }
 ],
 "metadata": {
  "kernelspec": {
   "display_name": "Python 3",
   "language": "python",
   "name": "python3"
  },
  "language_info": {
   "codemirror_mode": {
    "name": "ipython",
    "version": 3
   },
   "file_extension": ".py",
   "mimetype": "text/x-python",
   "name": "python",
   "nbconvert_exporter": "python",
   "pygments_lexer": "ipython3",
   "version": "3.7.3"
  }
 },
 "nbformat": 4,
 "nbformat_minor": 2
}
