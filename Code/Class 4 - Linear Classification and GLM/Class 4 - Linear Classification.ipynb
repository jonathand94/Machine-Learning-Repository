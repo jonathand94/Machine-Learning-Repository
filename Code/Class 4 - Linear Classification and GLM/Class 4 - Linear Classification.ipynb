{
 "cells": [
  {
   "cell_type": "markdown",
   "metadata": {},
   "source": [
    "# LINEAR CLASSIFICATION"
   ]
  },
  {
   "cell_type": "code",
   "execution_count": 1,
   "metadata": {},
   "outputs": [],
   "source": [
    "import numpy as np\n",
    "import matplotlib.pyplot as plt\n",
    "import pandas as pd\n",
    "from random import shuffle\n",
    "from linear_utils import LR"
   ]
  },
  {
   "cell_type": "markdown",
   "metadata": {},
   "source": [
    "## Getting training data"
   ]
  },
  {
   "cell_type": "code",
   "execution_count": 2,
   "metadata": {},
   "outputs": [
    {
     "data": {
      "text/html": [
       "<div>\n",
       "<style scoped>\n",
       "    .dataframe tbody tr th:only-of-type {\n",
       "        vertical-align: middle;\n",
       "    }\n",
       "\n",
       "    .dataframe tbody tr th {\n",
       "        vertical-align: top;\n",
       "    }\n",
       "\n",
       "    .dataframe thead th {\n",
       "        text-align: right;\n",
       "    }\n",
       "</style>\n",
       "<table border=\"1\" class=\"dataframe\">\n",
       "  <thead>\n",
       "    <tr style=\"text-align: right;\">\n",
       "      <th></th>\n",
       "      <th>Pregnancies</th>\n",
       "      <th>Glucose</th>\n",
       "      <th>BloodPressure</th>\n",
       "      <th>SkinThickness</th>\n",
       "      <th>Insulin</th>\n",
       "      <th>BMI</th>\n",
       "      <th>DiabetesPedigreeFunction</th>\n",
       "      <th>Age</th>\n",
       "      <th>Outcome</th>\n",
       "    </tr>\n",
       "  </thead>\n",
       "  <tbody>\n",
       "    <tr>\n",
       "      <th>0</th>\n",
       "      <td>1</td>\n",
       "      <td>89</td>\n",
       "      <td>66</td>\n",
       "      <td>23</td>\n",
       "      <td>94</td>\n",
       "      <td>28.1</td>\n",
       "      <td>0.167</td>\n",
       "      <td>21</td>\n",
       "      <td>0</td>\n",
       "    </tr>\n",
       "    <tr>\n",
       "      <th>1</th>\n",
       "      <td>0</td>\n",
       "      <td>137</td>\n",
       "      <td>40</td>\n",
       "      <td>35</td>\n",
       "      <td>168</td>\n",
       "      <td>43.1</td>\n",
       "      <td>2.288</td>\n",
       "      <td>33</td>\n",
       "      <td>1</td>\n",
       "    </tr>\n",
       "    <tr>\n",
       "      <th>2</th>\n",
       "      <td>3</td>\n",
       "      <td>78</td>\n",
       "      <td>50</td>\n",
       "      <td>32</td>\n",
       "      <td>88</td>\n",
       "      <td>31.0</td>\n",
       "      <td>0.248</td>\n",
       "      <td>26</td>\n",
       "      <td>1</td>\n",
       "    </tr>\n",
       "    <tr>\n",
       "      <th>3</th>\n",
       "      <td>2</td>\n",
       "      <td>197</td>\n",
       "      <td>70</td>\n",
       "      <td>45</td>\n",
       "      <td>543</td>\n",
       "      <td>30.5</td>\n",
       "      <td>0.158</td>\n",
       "      <td>53</td>\n",
       "      <td>1</td>\n",
       "    </tr>\n",
       "    <tr>\n",
       "      <th>4</th>\n",
       "      <td>1</td>\n",
       "      <td>189</td>\n",
       "      <td>60</td>\n",
       "      <td>23</td>\n",
       "      <td>846</td>\n",
       "      <td>30.1</td>\n",
       "      <td>0.398</td>\n",
       "      <td>59</td>\n",
       "      <td>1</td>\n",
       "    </tr>\n",
       "  </tbody>\n",
       "</table>\n",
       "</div>"
      ],
      "text/plain": [
       "   Pregnancies  Glucose  BloodPressure  SkinThickness  Insulin   BMI  \\\n",
       "0            1       89             66             23       94  28.1   \n",
       "1            0      137             40             35      168  43.1   \n",
       "2            3       78             50             32       88  31.0   \n",
       "3            2      197             70             45      543  30.5   \n",
       "4            1      189             60             23      846  30.1   \n",
       "\n",
       "   DiabetesPedigreeFunction  Age  Outcome  \n",
       "0                     0.167   21        0  \n",
       "1                     2.288   33        1  \n",
       "2                     0.248   26        1  \n",
       "3                     0.158   53        1  \n",
       "4                     0.398   59        1  "
      ]
     },
     "execution_count": 2,
     "metadata": {},
     "output_type": "execute_result"
    }
   ],
   "source": [
    "lr = LR()\n",
    "# data = pd.read_excel('admision.xlsx')\n",
    "data = pd.read_csv('diabetes.csv')\n",
    "data.head()"
   ]
  },
  {
   "cell_type": "markdown",
   "metadata": {},
   "source": [
    "## Extracting data\n",
    "\n",
    "We are going to work with only 2 features: Glucose and Body Mass Index (BMI)"
   ]
  },
  {
   "cell_type": "code",
   "execution_count": 56,
   "metadata": {},
   "outputs": [
    {
     "name": "stdout",
     "output_type": "stream",
     "text": [
      "(392, 1) (392, 1) (392, 1)\n",
      "(130, 1) (262, 1)\n",
      "(130, 1) (262, 1)\n",
      "(130, 1) (262, 1)\n"
     ]
    }
   ],
   "source": [
    "#x1 = np.array([data['Grade1'].values.tolist()]).T\n",
    "#x2 = np.array([data['Grade2'].values.tolist()]).T\n",
    "#y = np.array([data['Admitted'].values.tolist()]).T\n",
    "\n",
    "x1 = np.array([data['Glucose'].values.tolist()]).T\n",
    "x2 = np.array([data['BMI'].values.tolist()]).T\n",
    "y = np.array([data['Outcome'].values.tolist()]).T\n",
    "\n",
    "pos_idx = (y == 1)\n",
    "neg_idx = (y == 0)\n",
    "\n",
    "y_pos = np.array([y[pos_idx]]).T\n",
    "y_neg = np.array([y[neg_idx]]).T\n",
    "\n",
    "x1_pos = np.array([x1[pos_idx]]).T\n",
    "x1_neg = np.array([x1[neg_idx]]).T\n",
    "\n",
    "x2_pos = np.array([x2[pos_idx]]).T\n",
    "x2_neg = np.array([x2[neg_idx]]).T\n",
    "\n",
    "print(x1.shape, x2.shape, y.shape)\n",
    "print(y_pos.shape, y_neg.shape)\n",
    "print(x1_pos.shape, x1_neg.shape)\n",
    "print(x2_pos.shape, x2_neg.shape)"
   ]
  },
  {
   "cell_type": "markdown",
   "metadata": {},
   "source": [
    "## Data randomization, split and normalization"
   ]
  },
  {
   "cell_type": "code",
   "execution_count": 57,
   "metadata": {},
   "outputs": [
    {
     "name": "stdout",
     "output_type": "stream",
     "text": [
      "(274, 3) (118, 3) (274, 1) (118, 1)\n"
     ]
    }
   ],
   "source": [
    "# Create matrix\n",
    "x = np.concatenate([x1, x2], axis=1)\n",
    "\n",
    "# Randomize\n",
    "idx = [i for i in range(len(x))]\n",
    "shuffle(idx)\n",
    "x = x[idx] \n",
    "y = y[idx]\n",
    "\n",
    "# Normalize\n",
    "x_norm = (x - x.min(0)) / x.ptp(0)\n",
    "y_norm = (y - y.min(0)) / y.ptp(0)\n",
    "x_b = np.insert(x_norm, 0, 1, axis=1)\n",
    "\n",
    "# Split 70% / 30%\n",
    "x_train = x_b[0:round(0.7*x_b.shape[0])]\n",
    "x_test = x_b[round(0.7*x_b.shape[0]):]\n",
    "y_train = y_norm[0:round(0.7*y.shape[0])]\n",
    "y_test = y_norm[round(0.7*y.shape[0]):]\n",
    "\n",
    "print(x_train.shape, x_test.shape, y_train.shape, y_test.shape)"
   ]
  },
  {
   "cell_type": "markdown",
   "metadata": {},
   "source": [
    "## Graphing data"
   ]
  },
  {
   "cell_type": "code",
   "execution_count": 58,
   "metadata": {},
   "outputs": [
    {
     "data": {
      "text/plain": [
       "<matplotlib.legend.Legend at 0x2b1a65bc390>"
      ]
     },
     "execution_count": 58,
     "metadata": {},
     "output_type": "execute_result"
    },
    {
     "data": {
      "image/png": "[encoded data removed]",
      "text/plain": [
       "<Figure size 432x288 with 1 Axes>"
      ]
     },
     "metadata": {
      "needs_background": "light"
     },
     "output_type": "display_data"
    }
   ],
   "source": [
    "plt.figure()\n",
    "plt.title('Classifying diabetes')\n",
    "plt.xlabel('Glucose')\n",
    "plt.ylabel('BMI')\n",
    "plt.scatter(x1_pos[:,0], x2_pos[:,0], color='r', label='Diabetes')\n",
    "plt.scatter(x1_neg[:,0], x2_neg[:,0], color='b', label='No Diabetes')\n",
    "plt.legend()"
   ]
  },
  {
   "cell_type": "markdown",
   "metadata": {},
   "source": [
    "## Hypothesis"
   ]
  },
  {
   "cell_type": "code",
   "execution_count": 59,
   "metadata": {},
   "outputs": [
    {
     "name": "stdout",
     "output_type": "stream",
     "text": [
      "(392, 1)\n"
     ]
    }
   ],
   "source": [
    "def h(x, w):\n",
    "    \"\"\"\n",
    "        params:\n",
    "            w: [np_array] a vector of weights with dimensions (nx1), where n represents the number of weights.\n",
    "            x: [np_array] a vector of feature variables with dimensions (m x n)\n",
    "        return\n",
    "            h: [mp_array] a vector of dimensons (m x 1) representing all predictions\n",
    "    \"\"\"\n",
    "    return 1 / (1 + np.exp(-x.dot(w)))\n",
    "\n",
    "w_i = np.zeros([3, 1])\n",
    "print(h(x_b, w_i).shape)"
   ]
  },
  {
   "cell_type": "markdown",
   "metadata": {},
   "source": [
    "## Cost function\n",
    "\n",
    "$$ J(w) = -\\sum_{i=1}^{m} y^{(i)} log(h(x^{(i)})) + (1 - y^{(i)}) log(1-y^{(i)}) + \\lambda w^{T}w$$"
   ]
  },
  {
   "cell_type": "code",
   "execution_count": 60,
   "metadata": {},
   "outputs": [
    {
     "name": "stdout",
     "output_type": "stream",
     "text": [
      "271.71369477949855\n"
     ]
    }
   ],
   "source": [
    "def cost(w, x, y, l2=0):\n",
    "    \"\"\"\n",
    "        params:\n",
    "            w: [np_array] a vector of weights with dimensions (nx1), where n represents the number of weights.\n",
    "            x: [np_array] a vector of feature variables with dimensions (m x n),\n",
    "                where n represents the number of feature variables and m the number of training examples\n",
    "            y: [np_array] a vector of feature variables with dimensions (m x 1),\n",
    "                where m represents the number of target variables\n",
    "            l2: [double] regularization constant for Ridge Regression\n",
    "\n",
    "        returns:\n",
    "            cost: [double] the mean squared error\n",
    "    \"\"\"\n",
    "    return -( y.T.dot(np.log(h(x, w))) + (1 - y).T.dot(np.log(1 - h(x, w))) )[0][0] + l2*w.T.dot(w)[0][0]\n",
    "\n",
    "print(cost(w_i, x_b, y_norm))"
   ]
  },
  {
   "cell_type": "markdown",
   "metadata": {},
   "source": [
    "## Gradient\n",
    "\n",
    "$$ \\nabla_{w} J(w) = [y - h(x)]x$$"
   ]
  },
  {
   "cell_type": "code",
   "execution_count": 61,
   "metadata": {},
   "outputs": [
    {
     "name": "stdout",
     "output_type": "stream",
     "text": [
      "[[0.16836735]\n",
      " [0.02630066]\n",
      " [0.03300154]]\n",
      "(3, 1)\n"
     ]
    }
   ],
   "source": [
    "def grad(w, x, y, l2=0):\n",
    "    \"\"\"\n",
    "        params:\n",
    "            w: [np_array] a vector of weights with dimensions (nx1), where n represents the number of weights.\n",
    "            x: [np_array] a vector of feature variables with dimensions (m x n),\n",
    "                where n represents the number of feature variables and m the number of training examples\n",
    "            y: [np_array] a vector of feature variables with dimensions (mx1),\n",
    "                where m represents the number of target variables\n",
    "            l2: [double] regularization constant for Ridge Regression\n",
    "\n",
    "        returns:\n",
    "            grad: [double] the derivative of the mean squared error\n",
    "    \"\"\"\n",
    "    e = h(x, w) - y\n",
    "    return (1 / (x.shape[0])) * x.T.dot(e) + l2*w\n",
    "\n",
    "print(grad(w_i, x_b, y))\n",
    "print(grad(w_i, x_b, y).shape)"
   ]
  },
  {
   "cell_type": "markdown",
   "metadata": {},
   "source": [
    "## Gradient Descent\n",
    "\n",
    "$$ w := w - \\alpha \\nabla_{w} J(w)$$"
   ]
  },
  {
   "cell_type": "code",
   "execution_count": 62,
   "metadata": {},
   "outputs": [],
   "source": [
    "def fit_gd(x_train, y_train, x_test, y_test, num_iter, alpha, w=None, l2=0, show_progress=True):\n",
    "    \"\"\"\n",
    "        We calculate gradient descent for minimizing the MSE to obtain the best linear hypothesis.\n",
    "\n",
    "        params:\n",
    "            x_train: [np_array] a vector of feature variables with dimensions (mxn),\n",
    "                      where n represents the number of feature variables and m the number of training examples\n",
    "            x_test: [np_array] a vector of feature variables with dimensions (mxn),\n",
    "                      where n represents the number of feature variables and m the number of validation examples\n",
    "            y_train: [np_array] a vector of feature variables with dimensions (mx1),\n",
    "                where m represents the number of target training variables\n",
    "            y_test: [np_array] a vector of feature variables with dimensions (mx1),\n",
    "                where m represents the number of target validation variables\n",
    "            num_iter: [int] an integer indicating the number of iterations of the Gradient Descent algorithm\n",
    "            alpha: [double] learning rate constant specifying the magnitude update step\n",
    "            w: [np_array] vector that contains the initial weights to optimize the model with dimensions (n x 1)\n",
    "            l2: [double] regularization constant for Ridge Regression\n",
    "\n",
    "        return:\n",
    "            j_train: [np_array] a vector (num_iter x 1) containing all cost function evaluations during training\n",
    "            j_test: [np_array] a vector (num_iter x 1) containing all cost function evaluations during evaluation\n",
    "            w: [np_array] a vector of the final optimized weights with dimensions (nx1)\n",
    "    \"\"\"\n",
    "\n",
    "    if w is None:\n",
    "        # Random weight initialization\n",
    "        w = np.random.randn(x_train.shape[1], 1)\n",
    "\n",
    "    # Vectors to save all costs at each iteration\n",
    "    j_train = np.zeros(num_iter)\n",
    "    j_test = np.zeros(num_iter)\n",
    "\n",
    "    # Iterate over the specified range\n",
    "    for i in range(num_iter):\n",
    "\n",
    "        # Update weights using Gradient Descent\n",
    "        w = w - alpha * grad(w, x_train, y_train, l2=l2)\n",
    "\n",
    "        # Save training cost\n",
    "        j_train[i] = cost(w, x_train, y_train, l2=l2)\n",
    "\n",
    "        # Save validation cost\n",
    "        j_test[i] = cost(w, x_test, y_test, l2=l2)\n",
    "        \n",
    "        # Show cost\n",
    "        if show_progress:\n",
    "            print('Validation cost {0}'.format(j_test[i]))\n",
    "\n",
    "    return w, j_train, j_test\n",
    "\n",
    "\n",
    "num_iter = 7000\n",
    "alpha = 0.1\n",
    "it = np.linspace(0 ,num_iter, num_iter)\n",
    "w_best, j_train, j_test = fit_gd(x_train, y_train, x_test, y_test, num_iter, alpha, show_progress=False)"
   ]
  },
  {
   "cell_type": "code",
   "execution_count": 63,
   "metadata": {},
   "outputs": [
    {
     "data": {
      "text/plain": [
       "<matplotlib.legend.Legend at 0x2b1a66f5b38>"
      ]
     },
     "execution_count": 63,
     "metadata": {},
     "output_type": "execute_result"
    },
    {
     "data": {
      "image/png": "[encoded data removed]",
      "text/plain": [
       "<Figure size 432x288 with 1 Axes>"
      ]
     },
     "metadata": {
      "needs_background": "light"
     },
     "output_type": "display_data"
    }
   ],
   "source": [
    "# Graficamos el costo\n",
    "plt.figure()\n",
    "plt.plot(it, j_train, 'r', linewidth=3, label='Costo entrenamiento')\n",
    "plt.plot(it, j_test, 'g', linewidth=3, label='Costo validación')\n",
    "plt.title('Costo cost(w) en el entrenamiento')\n",
    "plt.xlabel('Costo cost(w)')\n",
    "plt.ylabel('Iteraciones')\n",
    "plt.legend()"
   ]
  },
  {
   "cell_type": "code",
   "execution_count": 64,
   "metadata": {},
   "outputs": [
    {
     "name": "stdout",
     "output_type": "stream",
     "text": [
      "Sensitivity:  55.88235294117647\n",
      "Specificity:  89.28571428571429\n",
      "Accuracy:  79.66101694915254\n",
      "Precision:  67.85714285714286\n",
      "F1 Score:  61.29032258064516\n"
     ]
    }
   ],
   "source": [
    "# Denormalizamos predicciones\n",
    "preds = h(x_test, w_best)\n",
    "preds = preds * y.ptp(0) + y.min(0)\n",
    "\n",
    "# Binarize predictions\n",
    "preds = np.where(preds>0.5, 1, 0)\n",
    "\n",
    "# Get accuracy, sensitivity, specificty\n",
    "tp = np.sum(np.logical_and(preds == 1, y_test == 1))\n",
    "tn = np.sum(np.logical_and(preds == 0, y_test == 0))\n",
    "fp = np.sum(np.logical_and(preds == 1, y_test == 0))\n",
    "fn = np.sum(np.logical_and(preds == 0, y_test == 1))\n",
    "\n",
    "sens = tp / (tp + fn)\n",
    "spec = tn / (tn + fp)\n",
    "acc = (tp + tn) / (tp + tn + fp+ fn)\n",
    "prec  = tp / (tp + fp)\n",
    "f1 = 2*prec*sens / (prec + sens)\n",
    "\n",
    "print('Sensitivity: ', sens*100)\n",
    "print('Specificity: ', spec*100)\n",
    "print('Accuracy: ', acc*100)\n",
    "print('Precision: ', prec*100)\n",
    "print('F1 Score: ', f1*100)"
   ]
  },
  {
   "cell_type": "markdown",
   "metadata": {},
   "source": [
    "## Decision Boundary\n",
    "\n",
    "$$ x_{2} = - \\frac {w_{0} + w_{1}x_{1}} {w_{2}} $$"
   ]
  },
  {
   "cell_type": "code",
   "execution_count": 65,
   "metadata": {},
   "outputs": [
    {
     "name": "stdout",
     "output_type": "stream",
     "text": [
      "(130,)\n"
     ]
    },
    {
     "data": {
      "text/plain": [
       "<matplotlib.legend.Legend at 0x2b1a5c7bdd8>"
      ]
     },
     "execution_count": 65,
     "metadata": {},
     "output_type": "execute_result"
    },
    {
     "data": {
      "image/png": "[encoded data removed]",
      "text/plain": [
       "<Figure size 432x288 with 1 Axes>"
      ]
     },
     "metadata": {
      "needs_background": "light"
     },
     "output_type": "display_data"
    }
   ],
   "source": [
    "# Normalize pos and neg data\n",
    "x1_norm = (x1 - x1.min(0)) / x1.ptp(0)\n",
    "x2_norm = (x2 - x2.min(0)) / x2.ptp(0)\n",
    "\n",
    "x1_pos_norm = (x1_pos - x.min(0)) / x.ptp(0)\n",
    "x1_neg_norm = (x1_neg - x.min(0)) / x.ptp(0)\n",
    "\n",
    "x2_pos_norm = (x2_pos - x.min(0)) / x.ptp(0)\n",
    "x2_neg_norm = (x2_neg - x.min(0)) / x.ptp(0)\n",
    "\n",
    "x2_lin = -(w_best[0][0] + w_best[1][0]*x1_norm) / w_best[2][0]\n",
    "\n",
    "print(x2_pos_norm[:,0].shape)\n",
    "# Plot decision boundary\n",
    "plt.figure()\n",
    "plt.title('Classifying diabetes')\n",
    "plt.xlabel('Glucose')\n",
    "plt.ylabel('BMI')\n",
    "plt.ylim(1.1*min(x2_neg_norm[:,0]), 1.1*max(x2_pos_norm[:,0]))\n",
    "plt.scatter(x1_pos_norm[:,0], x2_pos_norm[:,0], color='r', label='Diabetes')\n",
    "plt.scatter(x1_neg_norm[:,0], x2_neg_norm[:,0], color='b', label='No Diabetes')\n",
    "plt.plot(x1_norm, x2_lin)\n",
    "plt.legend()"
   ]
  },
  {
   "cell_type": "markdown",
   "metadata": {},
   "source": [
    "# Logistic regression for \"n\" features\n",
    "\n",
    "We are going to analyze logistic regression with \"n\" features:"
   ]
  },
  {
   "cell_type": "code",
   "execution_count": 74,
   "metadata": {},
   "outputs": [
    {
     "name": "stdout",
     "output_type": "stream",
     "text": [
      "(392, 8) (392, 1)\n"
     ]
    }
   ],
   "source": [
    "x_data = data.loc[:, data.columns != 'Outcome'].values\n",
    "y_data = np.array([data['Outcome'].values]).T\n",
    "print(x_data.shape, y_data.shape)"
   ]
  },
  {
   "cell_type": "markdown",
   "metadata": {},
   "source": [
    "We pre-process all data: normalization, splitting and randomization"
   ]
  },
  {
   "cell_type": "code",
   "execution_count": 75,
   "metadata": {},
   "outputs": [
    {
     "name": "stdout",
     "output_type": "stream",
     "text": [
      "(274, 9) (118, 9) (274, 1) (118, 1)\n"
     ]
    }
   ],
   "source": [
    "# Normalize features (each column)\n",
    "x_data_norm = (x_data - x_data.min(0)) / x_data.ptp(0)\n",
    "\n",
    "# Randomize\n",
    "idx = [i for i in range(len(y_data))]\n",
    "shuffle(idx)\n",
    "x = x[idx] \n",
    "y = y[idx]\n",
    "\n",
    "# We split training data and add bias\n",
    "x_b = np.insert(x_data_norm, 0, 1, axis=1)\n",
    "\n",
    "# Split 70% / 30%\n",
    "x_train = x_b[0:round(0.7*x_b.shape[0])]\n",
    "x_test = x_b[round(0.7*x_b.shape[0]):]\n",
    "y_train = y_norm[0:round(0.7*y.shape[0])]\n",
    "y_test = y_norm[round(0.7*y.shape[0]):]\n",
    "\n",
    "print(x_train.shape, x_test.shape, y_train.shape, y_test.shape)"
   ]
  },
  {
   "cell_type": "markdown",
   "metadata": {},
   "source": [
    "Run gradient descent:"
   ]
  },
  {
   "cell_type": "code",
   "execution_count": 76,
   "metadata": {},
   "outputs": [
    {
     "data": {
      "text/plain": [
       "<matplotlib.legend.Legend at 0x2b1a68067b8>"
      ]
     },
     "execution_count": 76,
     "metadata": {},
     "output_type": "execute_result"
    },
    {
     "data": {
      "image/png": "[encoded data removed]",
      "text/plain": [
       "<Figure size 432x288 with 1 Axes>"
      ]
     },
     "metadata": {
      "needs_background": "light"
     },
     "output_type": "display_data"
    }
   ],
   "source": [
    "num_iter = 100\n",
    "alpha = 0.1\n",
    "it = np.linspace(0 ,num_iter, num_iter)\n",
    "w_best, j_train, j_test = fit_gd(x_train, y_train, x_test, y_test, num_iter, alpha, show_progress=False)\n",
    "\n",
    "# Graficamos el costo\n",
    "plt.figure()\n",
    "plt.plot(it, j_train, 'r', linewidth=3, label='Costo entrenamiento')\n",
    "plt.plot(it, j_test, 'g', linewidth=3, label='Costo validación')\n",
    "plt.title('Costo cost(w) en el entrenamiento')\n",
    "plt.xlabel('Costo cost(w)')\n",
    "plt.ylabel('Iteraciones')\n",
    "plt.legend()"
   ]
  },
  {
   "cell_type": "markdown",
   "metadata": {},
   "source": [
    "We get final metrics of classification"
   ]
  },
  {
   "cell_type": "code",
   "execution_count": 77,
   "metadata": {},
   "outputs": [
    {
     "name": "stdout",
     "output_type": "stream",
     "text": [
      "Sensitivity:  5.88235294117647\n",
      "Specificity:  92.85714285714286\n",
      "Accuracy:  67.79661016949152\n",
      "Precision:  25.0\n",
      "F1 Score:  9.523809523809524\n"
     ]
    }
   ],
   "source": [
    "# Denormalizamos predicciones\n",
    "preds = h(x_test, w_best)\n",
    "\n",
    "# Binarize predictions\n",
    "preds = np.where(preds>0.5, 1, 0)\n",
    "\n",
    "# Get accuracy, sensitivity, specificty\n",
    "tp = np.sum(np.logical_and(preds == 1, y_test == 1))\n",
    "tn = np.sum(np.logical_and(preds == 0, y_test == 0))\n",
    "fp = np.sum(np.logical_and(preds == 1, y_test == 0))\n",
    "fn = np.sum(np.logical_and(preds == 0, y_test == 1))\n",
    "\n",
    "sens = tp / (tp + fn)\n",
    "spec = tn / (tn + fp)\n",
    "acc = (tp + tn) / (tp + tn + fp+ fn)\n",
    "prec  = tp / (tp + fp)\n",
    "f1 = 2*prec*sens / (prec + sens)\n",
    "\n",
    "print('Sensitivity: ', sens*100)\n",
    "print('Specificity: ', spec*100)\n",
    "print('Accuracy: ', acc*100)\n",
    "print('Precision: ', prec*100)\n",
    "print('F1 Score: ', f1*100)"
   ]
  },
  {
   "cell_type": "code",
   "execution_count": null,
   "metadata": {},
   "outputs": [],
   "source": []
  }
 ],
 "metadata": {
  "kernelspec": {
   "display_name": "Python 3",
   "language": "python",
   "name": "python3"
  },
  "language_info": {
   "codemirror_mode": {
    "name": "ipython",
    "version": 3
   },
   "file_extension": ".py",
   "mimetype": "text/x-python",
   "name": "python",
   "nbconvert_exporter": "python",
   "pygments_lexer": "ipython3",
   "version": "3.7.3"
  }
 },
 "nbformat": 4,
 "nbformat_minor": 2
}
